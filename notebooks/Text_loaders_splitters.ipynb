{
 "cells": [
  {
   "cell_type": "markdown",
   "id": "ec25c9da-e798-462d-9458-a54ec6dede74",
   "metadata": {},
   "source": [
    "# Document Loaders and Splitters in Langchain"
   ]
  },
  {
   "cell_type": "markdown",
   "id": "ec0e5536-57a3-4499-aeac-5f5c56a2a0b6",
   "metadata": {},
   "source": [
    "### UnstructuredURLLoader\n",
    "UnstructuredURLLoader of Langchain internally uses unstructured python library to load the content from url's"
   ]
  },
  {
   "cell_type": "code",
   "execution_count": 1,
   "id": "6f8c1398-dec3-409d-950f-3862e1433e60",
   "metadata": {},
   "outputs": [],
   "source": [
    "from langchain.document_loaders import UnstructuredURLLoader\n",
    "\n",
    "loader = UnstructuredURLLoader(\n",
    "    urls = [\n",
    "        \"https://www.moneycontrol.com/news/business/banks/hdfc-bank-re-appoints-sanmoy-chakrabarti-as-chief-risk-officer-11259771.html\",\n",
    "        \"https://www.moneycontrol.com/news/business/markets/market-corrects-post-rbi-ups-inflation-forecast-icrr-bet-on-these-top-10-rate-sensitive-stocks-ideas-11142611.html\"\n",
    "    ]\n",
    ")"
   ]
  },
  {
   "cell_type": "code",
   "execution_count": 2,
   "id": "c1c7be95-9198-4106-987e-db8b1b37c81a",
   "metadata": {},
   "outputs": [
    {
     "data": {
      "text/plain": [
       "2"
      ]
     },
     "execution_count": 2,
     "metadata": {},
     "output_type": "execute_result"
    }
   ],
   "source": [
    "data = loader.load()\n",
    "len(data)"
   ]
  },
  {
   "cell_type": "code",
   "execution_count": 3,
   "id": "1f3e8813-4110-460f-9787-a33875c8fcf6",
   "metadata": {},
   "outputs": [
    {
     "data": {
      "text/plain": [
       "'English\\n\\nHindi\\n\\nGujarati\\n\\nSpecials\\n\\nHello, Login\\n\\nHello, Login\\n\\nLog-inor Sign-Up\\n\\nMy Account\\n\\nMy Profile\\n\\nMy Portfolio\\n\\nMy Watchlist\\n\\nMy Alerts\\n\\nMy Messages\\n\\nPrice Alerts\\n\\nMy Profile\\n\\nMy PRO\\n\\nMy Portfolio\\n\\nMy Watchlist\\n\\nMy Alerts\\n\\nMy Messages\\n\\nPrice Alerts\\n\\nLogout\\n\\nLoans up to ₹15 LAKHS\\n\\nFixed Deposits\\n\\nCredit CardsLifetime Free\\n\\nCredit Score\\n\\nChat with Us\\n\\nDownload App\\n\\nFollow us on:\\n\\nGo Ad-Free\\n\\nMy Alerts\\n\\n>->MC_ENG_DESKTOP/MC_ENG_NEWS/MC_ENG_BUSINESS_AS/MC_ENG_ROS_NWS_BUS_AS_ATF_728\\n\\nGo PRO @₹99 PRO\\n\\nAdvertisement\\n\\nRemove Ad\\n\\nBusiness\\n\\nMarkets\\n\\nStocks\\n\\nEconomy\\n\\nCompanies\\n\\nTrends\\n\\nIPO\\n\\nOpinion\\n\\nEV Special\\n\\nHomeNewsBusinessBanksHDFC Bank re-appoints Sanmoy Chakrabarti as Chief Risk Officer\\n\\nTrending Topics\\n\\nBusiness News LiveBudget 2025 News LiveSat Kartar Shopping Share PriceWorld BankIndian Rupee\\n\\nHDFC Bank re-appoints Sanmoy Chakrabarti as Chief Risk Officer\\n\\nChakrabarti has been appointed for a period of five years from December 14, 2023 to December 13, 2028.\\n\\nMoneycontrol News\\n\\nAugust 25, 2023 / 18:54 IST\\n\\nHDFC Bank\\n\\nWatchlist\\n\\nPortfolio\\n\\nMessage\\n\\nSet Alert\\n\\nlive\\n\\nbselive\\n\\nnselive\\n\\nVolume\\n\\nTodays L/H\\n\\nMore\\n\\nHDFC Bank, the country\\'s largest private sector lender, said on August 25 that its board approved the re-appointment of Sanmoy Chakrabarti as the Chief Risk Officer (CRO).\\n\\nAccording to the bank\\'s filing to the stock exchanges, Chakrabarti has been re-appointed for a period of five years.\\n\\nStory continues below Advertisement\\n\\nRemove Ad\\n\\n\"He will be the chief risk officer of the bank for a period of five years from December 14, 2023 to December 13, 2028,\" HDFC Bank said.\\n\\nChakrabarti, as the CRO of the bank, is responsible for determining the comprehensive risk appetite (covering Credit Risk, Market Risk, Operational Risk, Liquidity Risk, etc.) across various banking segments.\\n\\nAdditionally, he \"oversees the Enterprise Risk Management framework in the Bank and guides the formulations of policies and procedures for Internal Capital Adequacy Assessment Process, Stress Testing methodology, and Group Risk Management. He is also responsible for identifying and managing any emerging risk having material impact on Bank’s activities,\" according to the filing.\\n\\nChakrabarti, who holds M.S. in Quantitative Economics from the Indian Statistical Institute, is a member of the Indian Banks’ Association (IBA) Standing Committee on Risk Management and Basel Implementation, the filing added.\\n\\nMoneycontrol News\\n\\nfirst published: Aug 25, 2023 06:54 pm\\n\\nDiscover the latest business news, Sensex, and Nifty updates. Obtain Personal Finance insights, tax queries, and expert opinions on Moneycontrol or download the Moneycontrol App to stay updated!\\n\\nAdvertisement\\n\\nRemove Ad\\n\\nAdvertisement\\n\\nRemove Ad\\n\\nAdvertisement\\n\\nRemove Ad\\n\\nAdvertisement\\n\\nRemove Ad\\n\\nAdvertisement\\n\\nRemove Ad\\n\\nAdvertisement\\n\\nRemove Ad\\n\\nAdvisory Alert:\\n\\nFollow Us On:\\n\\nStocks: A B C D E F G H I J K L M N O P Q R S T U V W X Y Z Others\\n\\nTrending Topics\\n\\nSensex Today Bigg Boss 18 Finale Winner Business News Live Breaking News Live Delhi Fog Budget 2025 News Live Delhi Nursery Admission Saif Ali Khan News Infosys Share Price Maha Kumbh Mela 2025\\n\\nNews\\n\\nBusiness Budget 2025 Markets Stocks India News Economy Mutual Funds Personal Finance IPO News Startups\\n\\nMarkets\\n\\nHome Currencies Commodities Pre-Market IPO Global Market\\n\\nPersonal Finance\\n\\nHome Loans up to 15 Lakhs Credit Cards Lifetime Free Finance TrackerNew Fixed DepositsNew Fixed Income\\n\\nMutual Funds\\n\\nHome MC 30 Top Ranked Funds ETFs Mutual Fund Screener\\n\\nTools\\n\\nIncome Tax Calculator EMI Calculator Retirement Planning Gratuity Calculator\\n\\nCommunity\\n\\nStock Markets\\n\\nNetwork 18 Sites\\n\\nNews18 Firstpost CNBC TV18 News18 Hindi Cricketnext Overdrive Topper Learning\\n\\nQuick Links\\n\\nAbout Us Contact Us Advisory Alert Advertise with Us SupportDisclaimer Privacy Policy Cookie Policy Terms & Conditions Financial Terms (Glossary) Sitemap Investors\\n\\nDownload MC Apps:\\n\\nCopyright © Network18 Media & Investments Limited. All rights reserved. Reproduction of news articles, photos, videos or any other content in whole or in part in any form or medium without express written permission of moneycontrol.com is prohibited.\\n\\nYou got 30 Day’s Trial of\\n\\nGrab it Now\\n\\nAd-Free Experience\\n\\nTop Articles from Financial Times\\n\\nActionable Insights\\n\\nMC Research\\n\\nEconomic Calendar\\n\\n& Many More\\n\\nYou are already a Moneycontrol Pro user.\\n\\nM Snehanjali English\\n\\nHindi\\n\\nGujarati\\n\\nSpecials\\n\\nHello, Login\\n\\nHello, Login\\n\\nLog-inor Sign-Up\\n\\nMy Account\\n\\nMy Profile\\n\\nMy Portfolio\\n\\nMy Watchlist\\n\\nMy Alerts\\n\\nMy Messages\\n\\nPrice Alerts\\n\\nMy Profile\\n\\nMy PRO\\n\\nMy Portfolio\\n\\nMy Watchlist\\n\\nMy Alerts\\n\\nMy Messages\\n\\nPrice Alerts\\n\\nLogout\\n\\nLoans up to ₹15 LAKHS\\n\\nFixed Deposits\\n\\nCredit CardsLifetime Free\\n\\nCredit Score\\n\\nChat with Us\\n\\nDownload App\\n\\nFollow us on:\\n\\nGo Ad-Free\\n\\nMy Alerts\\n\\n>->MC_ENG_DESKTOP/MC_ENG_NEWS/MC_ENG_MARKETS_AS/MC_ENG_ROS_NWS_MKTS_AS_ATF_728\\n\\nGo PRO @₹99 PRO\\n\\nAdvertisement\\n\\nRemove Ad\\n\\nBusiness\\n\\nMarkets\\n\\nStocks\\n\\nEconomy\\n\\nCompanies\\n\\nTrends\\n\\nIPO\\n\\nOpinion\\n\\nEV Special\\n\\nHomeNewsBusinessMarketsMarket corrects post RBI MPC outcome Bet on these top 10 rate-sensitive stocks\\n\\nTrending Topics\\n\\nSensex TodayInfosys Share PriceCEAT Share PriceZomato Share PriceAzad Engineering Share PriceL&T Tech Share Price\\n\\nMarket corrects post RBI MPC outcome| Bet on these top 10 rate-sensitive stocks\\n\\nExperts are not worried due to this market fall, in fact, it gives an opportunity to pick quality stocks including rate sensitive stocks on dips.\\n\\nSunil Shankar Matkar\\n\\nAugust 10, 2023 / 13:45 IST\\n\\nRBI holds repo rate at 6.5 percent, raises full year inflation forecast\\n\\nWatchlist\\n\\nPortfolio\\n\\nMessage\\n\\nSet Alert\\n\\nlive\\n\\nbselive\\n\\nnselive\\n\\nVolume\\n\\nTodays L/H\\n\\nMore\\n\\nThe Monetary Policy Committee (MPC) unanimously decided to hold the repo rate at 6.5 percent, but raised the full-year inflation forecast to 5.4 percent from 5.1 percent earlier given the supply disruptions due to adverse weather conditions and assuming a normal monsoon, which was largely on expected lines.\\n\\n\"The MPC also decided to remain focused on withdrawal of accommodation to ensure that inflation progressively aligns with the target, while supporting growth,\" the Reserve Bank of India said in its release.\\n\\nStory continues below Advertisement\\n\\nRemove Ad\\n\\nThe MPC has also maintained its real GDP growth forecast for current financial year 2023-24 at 6.5 percent considering the hope for better household consumption, and renewal of the capex cycle going ahead, amid global headwinds.\\n\\n\"There were no surprises in the policy and unlike market expectations, there was no hawkish bend to the commentary,\" Indranil Pan, Chief Economist at YES Bank said.\\n\\nHowever, he further said as any good central bank would do, the RBI signals that it would continue to look ahead and factor in its anticipated inflation trajectory into future monetary policy decisions, and opined that excessive liquidity can pose risks to price stability.\\n\\nRelated stories\\n\\nTop 10 Category III AIFS in December 2024\\n\\nChartist Talks: Sudeep Shah of SBI Securities is bullish on these 6 stocks for next week\\n\\nStockology: Watch the energy and power sector closely in the next week\\n\\nMeanwhile, the RBI has attempted to neutralize the liquidity impact of the Rs 2000/- notes into the banking system, and has hiked incremental CRR (cash reserve ratio) to 10 percent till September 2023 to address surplus liquidity generated by various factors.\\n\\nThe market has reacted negatively to the rising inflation forecast and incremental CRR for banks announced by the RBI. Hence the Bank Nifty fell 240 points to 44,640, while the BSE Sensex fell 246 points to 65,750, and the Nifty50 dropped 69 points to 19,564, at 12:49 hours IST.\\n\\nBut experts are not worried due to this fall, in fact, it gives an opportunity to pick quality stocks including rate sensitive stocks on dips. They still feel the market is in a consolidation phase and can give decisive breakout over crucial 19,650-19,700 levels soon, as long as it holds the 19,500-19,300 support. Overall it traded within the previous day\\'s range.\\n\\nStory continues below Advertisement\\n\\nRemove Ad\\n\\n\"We believe that a dip in the market is a much needed. The RBI move may pave the way for healthy correction. If Bank Nifty fails to hold above the 44,500 mark then there is a chance of a fall till 43,500. This is a major support level for Bank Nifty where investors can get it to good quality banking stocks,\" Apurva Sheth, head of market perspectives & research at SAMCO Securities said.\\n\\nOn the Nifty50, Osho Krishan, senior. analyst, technical & derivative research at Angel One feels the bearish gap of 19,678-19,705 withholds the immediate hurdle and a decisive breach would attract new longs in the index for the next potential resistance around 19,800-19,850 in the comparable period. While on the downside, the pivotal support of 19,500 proved its mettle and is expected to cushion any blip in the shortcoming, he said.\\n\\nFollow LIVE Updates of the RBI Monetary Policy decision here\\n\\nWe have collated a list of rate-sensitive stocks that may be a good buy at current levels or on dips from a two to three weeks’ perspective. Returns are calculated based on August 9 closing price:\\n\\nExpert: Foram Chheda, CMT, technical research analyst and founder of ChartAnalytics.co.in\\n\\nHDFC Bank: Buy | LTP: Rs 1,647 | Stop-Loss: Rs 1,612 | Target: Rs 1,720 | Return: 4.4 percent\\n\\nAfter marking a high on a closing basis in July this year, HDFC Bank\\'s stock price saw a corrective decline and halted at Rs 1,579-1,580 levels which was in close proximity to the 200-day MA (moving average) marking it as a strong support level.\\n\\nThe price movement after that led to the development of the symmetrical triangle. Currently, the stock is very close to multiple moving average support level at 50-day, 100-day and 200-day MA which is expected to act as a strong support level and the price is likely to move towards the previous highs of Rs 1,720 levels.\\n\\nThus, one should continue to hold the stock with stop-loss of Rs 1,612 and can expect a potential up move towards Rs 1,720 levels.\\n\\nManappuram Finance: Buy | LTP: Rs 142.40 | Stop-Loss: Rs 131 | Target: Rs 155 | Return: 9 percent\\n\\nSince February 2022, Manappuram Finance has been in a consolidation phase. After reaching a low point at Rs 81 levels in June 2022, the stock gradually climbed. During its ascent, it surpassed the 50-day, 100-day, and 200-day moving averages. However, its upward momentum slowed around Rs 133-134 levels, acting as a resistance, and a corrective decline followed. This decline found support near the 200-day moving average. A rebound in the price followed this price action.\\n\\nIn the past month, the price tested the resistance at Rs 131-133 levels multiple times. Finally, a breakout occurred which took the price above the horizontal trendline resistance of Rs 133, creating fresh buying opportunities.\\n\\nPresently, one can hold the stock, maintain a stop-loss near Rs 131, while expecting an upward move towards Rs 155.\\n\\nL&T Finance Holdings: Buy | LTP: Rs 126.2 | Stop-Loss: Rs 119 | Target: Rs 138-140 | Return: 11 percent\\n\\nAfter forming a bottom at Rs 78 levels in March this year, the stock price has witnessed a rebound. Despite a temporary violation, the price defended the 200-day MA as its support by staging a rebound and crossing above it. This reinforced the levels of 200-DMA as a major support for the stock.\\n\\nThe price gradually crossed above multiple moving averages of 50-day MA as well as 100-day MA which concluded the trend of the stock to be bullish. This up move in price halted near Rs 140 levels last month and retraced nearly 23.6 percent as per the Fibonacci retracement levels getting very close to the 50-day MA in the process.\\n\\nThus, the formation of higher tops and higher bottoms, Fibonacci retracement of 23.6 percent, and 50-day MA support level can trigger a rebound in price which could result in a potential continuation of the uptrend. One can continue holding the stock with a stop-loss of Rs 119 and look for a potential up move close to Rs 138-140 levels.\\n\\nExpert: Vidnyan Sawant, AVP - technical research at GEPL Capital\\n\\nICICI Bank: Buy | LTP: Rs 972.7 | Stop-Loss: Rs 940 | Target: Rs 1,040 | Return: 7 percent\\n\\nICICI Bank\\'s stock is currently trading around its all-time high levels and has shown a pattern of forming higher tops and higher bottoms on the monthly charts. This pattern suggests a strong positive sentiment for the stock over the long term. Recently, the stock has found support around the previous swing high, which has now become a new support level due to the concept of change in polarity (CIP). This indicates a bullish signal for the stock, with this support level forming around Rs 960.\\n\\nFurthermore, the stock has been consistently trading above its important moving averages, including the 50-day, 100-day, and 200-day moving averages. This alignment of moving averages in a positive direction indicates the bullish strength of the stock\\'s trend.\\n\\nThe relative strength index (RSI), a momentum indicator, has been indicating positive momentum on various time frames such as daily, weekly, and monthly. It has consistently remained above the 50 mark, reinforcing the presence of a favorable upward momentum in the stock\\'s price.\\n\\nLooking ahead, there is potential for the upward movement of the stock to continue, possibly targeting Rs 1,040 levels. It\\'s recommended to set a stop-loss at Rs 940, which should be triggered on a closing basis.\\n\\nCanara Bank: Buy | LTP: Rs 336.10 | Stop-Loss: Rs 320 | Target: Rs 360 | Return: 7 percent\\n\\nCanara Bank stock has rebounded positively from the critical support level of Rs 325, which shows a change in polarity at the same level. A notable Cup & Handle pattern breakout in early July 2023 suggested the onset of a bullish trend.\\n\\nThis upward trend is further reinforced as the stock prices consistently take support from the 12 & 26-day exponential moving averages (EMA). Additionally, the RSI displays a positive hidden divergence, indicating strong positive momentum in the stock.\\n\\nGoing ahead, we can expect the up move to continue till Rs 360 levels, where the stop-loss must be Rs 320 on closing basis.\\n\\nPNB Housing Finance: Buy | LTP: Rs 634.55 | Stop-Loss: Rs 600 | Target: Rs 700 | Return: 10 percent\\n\\nPNB Housing stock has made an impressive rise from its lower levels around Rs 380, evident from the rising steepness of the trend lines. The stock consistently forms higher highs and higher lows, indicating a sustained upward momentum.\\n\\nThis bullish sentiment is further validated as, during every decline, the stock rebounds from its variable support levels defined by the 12-day and 26-day EMAs.\\n\\nMoreover, the RSI exhibits a Positive Hidden Divergence, underscoring the prevailing positive momentum. Going ahead we can expect the up move to continue till Rs 700 level where the stop-loss must be Rs 600 on closing basis.\\n\\nRBL Bank: Buy | LTP: Rs 220.95 | Stop-Loss: Rs 205 | Target: Rs 270 | Return: 22 percent\\n\\nRBL Bank is currently trading close to its 52-week high, maintaining a higher top higher bottom pattern on the monthly charts, suggesting a positive long-term trend. Additionally, on the weekly chart, the stock has broken out of an Inverted Head & Shoulder pattern and is sustaining above that level, confirming a robust positive sentiment in the medium term. In the short term, the stock seems to be finding support around Rs 205 – 200 levels.\\n\\nMoreover, the stock has consistently traded above key moving averages, including the 50-day, 100-day, and 200-day moving averages. This alignment of moving averages in a positive direction further underscores the bullish trajectory of the stock.\\n\\nThe RSI, a momentum indicator, has consistently indicated positive momentum across various time frames such as daily, weekly, and monthly. The RSI has consistently maintained levels above 55, highlighting the presence of strong upward momentum in the stock\\'s price.\\n\\nLooking forward, there is potential for the stock\\'s upward movement to persist, with a potential target around Rs 270 levels. To manage risk, it is advisable to implement a stop-loss strategy at Rs 205, which should be activated based on closing prices.\\n\\nExpert: Mitesh Karwa, research analyst at Bonanza Portfolio\\n\\nAshok Leyland: Buy | LTP: Rs 187.55 | Stop-Loss: Rs 178 | Target: Rs 207 | Return: 10 percent\\n\\nA significant breakout of a Cup and Handle pattern in Ashok Leyland has been observed. This pattern often indicates a potential bullish continuation of the existing trend. The good volume during the breakout suggests increased buying interest at the current price levels, which further reinforces the positive outlook.\\n\\nMoreover, the price is trading above the major EMA, indicating a sustained uptrend. This alignment with the EMAs adds more confidence to the bullish scenario. Simultaneously, the technical indicator Ichimoku Cloud suggests that the price is trading above the conversion and base line which shows a Positive trend in the counter.\\n\\nHence, based on the above technical structure one can initiate a long position in Ashok Leyland at Rs 187.55 or buy on a dip till Rs 187 levels can be used as buying opportunity for the upside target of Rs 207. However, the bullish view will be negated if Ashok Leyland closes below the support level of Rs 178.\\n\\nHero MotoCorp: Buy | LTP: Rs 3,059.7 | Stop-Loss: Rs 2,850 | Target: Rs 3,500 | Return: 14 percent\\n\\nIn the weekly timeframe, Hero price retraced 0.618 percent from its high after an upward move. The stock found support at the EMA and rebounded, approaching the previous high. This is accompanied by a pattern of higher highs and higher lows, indicating a bullish trend.\\n\\nAdditionally, the price remains above the 100-period EMA and the Ichimoku Indicator, supporting the uptrend. The RSI momentum indicator is also trending, with new highs, confirming the trend.\\n\\nIn light of these technical factors, a long position could be considered at Rs 3,059 or a potential decline to Rs 3,050, with a target price of Rs 3,500. However, this bullish view would be invalidated if the stock closes below the support level of Rs 2,850.\\n\\nBank of Maharashtra: Buy | LTP: Rs 37.3 | Stop-Loss: Rs 30 | Target: Rs 50 | Return: 34 percent\\n\\nBank of Maharashtra has seen breaking out of an Inverse Head and Shoulder pattern on the weekly timeframe with a bullish candlestick pattern and closing above the highs of last six years which indicates strength. The stock is also trading above all its important EMAs on the daily timeframe which acts as a confluence.\\n\\nThe supertrend indicator is also indicating a bullish continuation which supports the bullish view. Momentum oscillator RSI (14) is at around 75 on the daily time frame indicating strength by sustaining above 50 and the ichimoku cloud is also suggesting a bullish move as the price is trading above the conversion line, base line and cloud.\\n\\nObservation of the above factors indicates that a bullish move in Bank of Maharashtra is possible for target upto Rs 50. One can initiate a buy trade in between the range of Rs 37-37.3, with stop-loss of Rs 30 on daily closing basis.\\n\\nDisclaimer: The views and investment tips expressed by investment experts on Moneycontrol.com are their own and not those of the website or its management. Moneycontrol.com advises users to check with certified experts before taking any investment decisions.\\n\\nSunil Shankar Matkar\\n\\nfirst published: Aug 10, 2023 01:38 pm\\n\\nDiscover the latest business news, Sensex, and Nifty updates. Obtain Personal Finance insights, tax queries, and expert opinions on Moneycontrol or download the Moneycontrol App to stay updated!\\n\\nAdvertisement\\n\\nRemove Ad\\n\\nTrending news\\n\\nPaytm CEO complains about iPhone 16\\'s camera, says he\\'s considering getting a Google Pixel\\n\\nBengaluru\\'s Mokobara accused of selling Chinese bags at inflated price. Check company\\'s response\\n\\nIndian-origin banker quit job to launch deep-space startup in Singapore, raises Rs 207 crore\\n\\nTicketless passenger travels 30 km clinging onto cables of high-speed train in Germany\\n\\nMan hails Indigo crew member for assisting unconscious passenger mid-flight: \\'A true superwoman\\'\\n\\nAdvisory Alert:\\n\\nFollow Us On:\\n\\nStocks: A B C D E F G H I J K L M N O P Q R S T U V W X Y Z Others\\n\\nTrending Topics\\n\\nSensex Today Bigg Boss 18 Finale Winner Business News Live Breaking News Live Delhi Fog Budget 2025 News Live Delhi Nursery Admission Saif Ali Khan News Infosys Share Price Maha Kumbh Mela 2025\\n\\nNews\\n\\nBusiness Budget 2025 Markets Stocks India News Economy Mutual Funds Personal Finance IPO News Startups\\n\\nMarkets\\n\\nHome Currencies Commodities Pre-Market IPO Global Market\\n\\nPersonal Finance\\n\\nHome Loans up to 15 Lakhs Credit Cards Lifetime Free Finance TrackerNew Fixed DepositsNew Fixed Income\\n\\nMutual Funds\\n\\nHome MC 30 Top Ranked Funds ETFs Mutual Fund Screener\\n\\nTools\\n\\nIncome Tax Calculator EMI Calculator Retirement Planning Gratuity Calculator\\n\\nCommunity\\n\\nStock Markets\\n\\nNetwork 18 Sites\\n\\nNews18 Firstpost CNBC TV18 News18 Hindi Cricketnext Overdrive Topper Learning\\n\\nQuick Links\\n\\nAbout Us Contact Us Advisory Alert Advertise with Us SupportDisclaimer Privacy Policy Cookie Policy Terms & Conditions Financial Terms (Glossary) Sitemap Investors\\n\\nDownload MC Apps:\\n\\nCopyright © Network18 Media & Investments Limited. All rights reserved. Reproduction of news articles, photos, videos or any other content in whole or in part in any form or medium without express written permission of moneycontrol.com is prohibited.\\n\\nYou got 30 Day’s Trial of\\n\\nGrab it Now\\n\\nAd-Free Experience\\n\\nTop Articles from Financial Times\\n\\nActionable Insights\\n\\nMC Research\\n\\nEconomic Calendar\\n\\n& Many More\\n\\nYou are already a Moneycontrol Pro user.\\n\\nSunil Matkar'"
      ]
     },
     "execution_count": 3,
     "metadata": {},
     "output_type": "execute_result"
    }
   ],
   "source": [
    "text = data[0].page_content + \" \" + data[1].page_content\n",
    "text"
   ]
  },
  {
   "cell_type": "code",
   "execution_count": 4,
   "id": "21cd6bf0-fe30-4803-999a-24ca44aa9060",
   "metadata": {},
   "outputs": [
    {
     "data": {
      "text/plain": [
       "{'source': 'https://www.moneycontrol.com/news/business/banks/hdfc-bank-re-appoints-sanmoy-chakrabarti-as-chief-risk-officer-11259771.html'}"
      ]
     },
     "execution_count": 4,
     "metadata": {},
     "output_type": "execute_result"
    }
   ],
   "source": [
    "data[0].metadata"
   ]
  },
  {
   "cell_type": "code",
   "execution_count": 5,
   "id": "24e9e08f-e77a-4d1a-bece-b6754a22d8bb",
   "metadata": {},
   "outputs": [
    {
     "data": {
      "text/plain": [
       "list"
      ]
     },
     "execution_count": 5,
     "metadata": {},
     "output_type": "execute_result"
    }
   ],
   "source": [
    "type(data)"
   ]
  },
  {
   "cell_type": "markdown",
   "id": "c6b4e504-8704-4fcf-a2e4-c88b3ccc96c4",
   "metadata": {},
   "source": [
    "### Text Splitters\r\n",
    "Why do we need text splitters in first place?\r\n",
    "\r\n",
    "LLM's have token limits. Hence we need to split the text which can be large into small chunks so that each chunk size is under the token limit. There are various text splitter classes in langchain that allows us to do this."
   ]
  },
  {
   "cell_type": "markdown",
   "id": "cc0836ea-75f8-477e-8945-b6cafbb269b2",
   "metadata": {},
   "source": [
    "### RecursiveCharacterTextSplitter\n",
    "Recursive text splitter uses a list of separators, i.e. separators = [\"\\n\\n\", \"\\n\", \".\"]"
   ]
  },
  {
   "cell_type": "code",
   "execution_count": 6,
   "id": "50997fd4-8523-40aa-89cd-8e4d1e09a47f",
   "metadata": {},
   "outputs": [],
   "source": [
    "from langchain.text_splitter import RecursiveCharacterTextSplitter\n",
    "\n",
    "r_splitter = RecursiveCharacterTextSplitter(\n",
    "    separators = ['\\n\\n', '\\n', ' '],\n",
    "    chunk_size = 200,\n",
    "    chunk_overlap = 20,\n",
    "    length_function = len\n",
    ")"
   ]
  },
  {
   "cell_type": "code",
   "execution_count": 8,
   "id": "52199b8d-74a4-4716-a086-d943a642c1ef",
   "metadata": {},
   "outputs": [
    {
     "data": {
      "text/plain": [
       "155"
      ]
     },
     "execution_count": 8,
     "metadata": {},
     "output_type": "execute_result"
    }
   ],
   "source": [
    "chunks = r_splitter.split_text(text)\n",
    "len(chunks)"
   ]
  },
  {
   "cell_type": "code",
   "execution_count": 9,
   "id": "3730f68f-ea3d-4d71-83fa-05326d61b442",
   "metadata": {},
   "outputs": [
    {
     "name": "stdout",
     "output_type": "stream",
     "text": [
      "190\n",
      "186\n",
      "197\n",
      "181\n",
      "173\n",
      "192\n",
      "79\n",
      "189\n",
      "164\n",
      "146\n",
      "198\n",
      "25\n",
      "199\n",
      "195\n",
      "191\n",
      "43\n",
      "57\n",
      "194\n",
      "186\n",
      "98\n",
      "193\n",
      "193\n",
      "196\n",
      "127\n",
      "108\n",
      "195\n",
      "196\n",
      "69\n",
      "159\n",
      "186\n",
      "197\n",
      "121\n",
      "192\n",
      "152\n",
      "130\n",
      "79\n",
      "196\n",
      "163\n",
      "194\n",
      "130\n",
      "197\n",
      "26\n",
      "46\n",
      "198\n",
      "47\n",
      "164\n",
      "191\n",
      "97\n",
      "148\n",
      "70\n",
      "195\n",
      "78\n",
      "196\n",
      "102\n",
      "197\n",
      "188\n",
      "46\n",
      "196\n",
      "189\n",
      "36\n",
      "197\n",
      "195\n",
      "75\n",
      "60\n",
      "196\n",
      "184\n",
      "198\n",
      "65\n",
      "197\n",
      "140\n",
      "130\n",
      "97\n",
      "196\n",
      "196\n",
      "110\n",
      "199\n",
      "47\n",
      "115\n",
      "103\n",
      "192\n",
      "115\n",
      "195\n",
      "154\n",
      "199\n",
      "151\n",
      "156\n",
      "191\n",
      "192\n",
      "147\n",
      "197\n",
      "76\n",
      "195\n",
      "96\n",
      "197\n",
      "32\n",
      "90\n",
      "196\n",
      "58\n",
      "190\n",
      "79\n",
      "123\n",
      "99\n",
      "195\n",
      "56\n",
      "160\n",
      "199\n",
      "42\n",
      "88\n",
      "193\n",
      "198\n",
      "84\n",
      "196\n",
      "66\n",
      "191\n",
      "90\n",
      "197\n",
      "70\n",
      "154\n",
      "198\n",
      "137\n",
      "198\n",
      "149\n",
      "199\n",
      "129\n",
      "98\n",
      "198\n",
      "88\n",
      "191\n",
      "189\n",
      "82\n",
      "95\n",
      "192\n",
      "141\n",
      "191\n",
      "160\n",
      "190\n",
      "62\n",
      "195\n",
      "77\n",
      "60\n",
      "194\n",
      "131\n",
      "190\n",
      "184\n",
      "115\n",
      "193\n",
      "193\n",
      "196\n",
      "127\n",
      "108\n",
      "195\n",
      "196\n",
      "69\n",
      "159\n",
      "67\n"
     ]
    }
   ],
   "source": [
    "for chunk in chunks:\n",
    "    print(len(chunk))"
   ]
  },
  {
   "cell_type": "code",
   "execution_count": 10,
   "id": "1ffebc5f-7567-49ad-9c82-e86743676e01",
   "metadata": {},
   "outputs": [],
   "source": [
    "import pandas as pd\n",
    "\n",
    "df = pd.DataFrame({'text': chunks})\n",
    "df.to_csv('chunks.csv', index=False)"
   ]
  },
  {
   "cell_type": "code",
   "execution_count": null,
   "id": "b522b02d-067f-44cf-9a8c-dc59a7b5c1f7",
   "metadata": {},
   "outputs": [],
   "source": []
  }
 ],
 "metadata": {
  "kernelspec": {
   "display_name": "Python 3 (ipykernel)",
   "language": "python",
   "name": "python3"
  },
  "language_info": {
   "codemirror_mode": {
    "name": "ipython",
    "version": 3
   },
   "file_extension": ".py",
   "mimetype": "text/x-python",
   "name": "python",
   "nbconvert_exporter": "python",
   "pygments_lexer": "ipython3",
   "version": "3.10.1"
  }
 },
 "nbformat": 4,
 "nbformat_minor": 5
}
